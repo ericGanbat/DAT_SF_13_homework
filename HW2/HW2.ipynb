{
 "metadata": {
  "name": "",
  "signature": "sha256:daa8be9deb239ff527518e1030d3231ce3ef8980ba8b3a41469f0c06c2422a58"
 },
 "nbformat": 3,
 "nbformat_minor": 0,
 "worksheets": [
  {
   "cells": [
    {
     "cell_type": "code",
     "collapsed": false,
     "input": [
      "from sklearn import datasets\n",
      "import pandas as pd\n",
      "from sklearn.cross_validation import train_test_split\n",
      "from sklearn.neighbors import KNeighborsClassifier\n",
      "from sklearn.cross_validation import cross_val_score, ShuffleSplit"
     ],
     "language": "python",
     "metadata": {},
     "outputs": [],
     "prompt_number": 1
    },
    {
     "cell_type": "heading",
     "level": 1,
     "metadata": {},
     "source": [
      "Implement KNN classification, using the sklearn package. We learned how to\n",
      "do this in class."
     ]
    },
    {
     "cell_type": "code",
     "collapsed": false,
     "input": [
      "iris=datasets.load_iris()\n",
      "X_train, X_test, y_train, y_test = train_test_split(iris.data, iris.target, test_size=0.3, random_state=12)\n",
      "myknn = KNeighborsClassifier(n_neighbors=3).fit(X_train,y_train)\n",
      "myknn.score(X_test, y_test)"
     ],
     "language": "python",
     "metadata": {},
     "outputs": [
      {
       "metadata": {},
       "output_type": "pyout",
       "prompt_number": 2,
       "text": [
        "0.97777777777777775"
       ]
      }
     ],
     "prompt_number": 2
    },
    {
     "cell_type": "heading",
     "level": 1,
     "metadata": {},
     "source": [
      "Use the sklearn package to implement cross-validation for your classifier. Use\n",
      "5 folds for your cross-validation."
     ]
    },
    {
     "cell_type": "code",
     "collapsed": false,
     "input": [
      "X = iris.data\n",
      "y = iris.target"
     ],
     "language": "python",
     "metadata": {},
     "outputs": [],
     "prompt_number": 3
    },
    {
     "cell_type": "code",
     "collapsed": false,
     "input": [
      "n_samples = len(y)\n",
      "knn = KNeighborsClassifier(3)\n",
      "test_scores = cross_val_score(knn, X, y, cv=5)\n",
      "print test_scores.mean()\n",
      "print test_scores\n"
     ],
     "language": "python",
     "metadata": {},
     "outputs": [
      {
       "output_type": "stream",
       "stream": "stdout",
       "text": [
        "0.966666666667\n",
        "[ 0.96666667  0.96666667  0.93333333  0.96666667  1.        ]\n"
       ]
      }
     ],
     "prompt_number": 4
    },
    {
     "cell_type": "heading",
     "level": 1,
     "metadata": {},
     "source": [
      "Use your KNN classifier and cross-validation code from (1) and (2) above to\n",
      "determine the optimal value of K (number of nearest neighbors to consult) for\n",
      "this Iris dataset. Hint: This hyperparameter will be a number between 1 and\n",
      "150 J\uf04a."
     ]
    },
    {
     "cell_type": "code",
     "collapsed": false,
     "input": [
      "n_neighbors = range(1,50,2)"
     ],
     "language": "python",
     "metadata": {},
     "outputs": [],
     "prompt_number": 5
    },
    {
     "cell_type": "code",
     "collapsed": false,
     "input": [
      "def getknnscore (n):\n",
      "    myknn = KNeighborsClassifier(n).fit(X_train,y_train)\n",
      "    return myknn.score(X_test, y_test)\n",
      "max =0\n",
      "nvalue=0\n",
      "for n in n_neighbors:\n",
      "    temp=getknnscore(n)\n",
      "    if temp>max:\n",
      "        max=temp\n",
      "        nvalue=n\n",
      "print 'optimal value is ' + str(nvalue)"
     ],
     "language": "python",
     "metadata": {},
     "outputs": [
      {
       "output_type": "stream",
       "stream": "stdout",
       "text": [
        "optimal value is 11\n"
       ]
      }
     ],
     "prompt_number": 6
    },
    {
     "cell_type": "code",
     "collapsed": false,
     "input": [],
     "language": "python",
     "metadata": {},
     "outputs": [],
     "prompt_number": 6
    },
    {
     "cell_type": "heading",
     "level": 1,
     "metadata": {},
     "source": [
      "Using matplotlib, plot classifier accuracy versus the hyperparameter K for a\n",
      "range of K that you consider interesting. Explain in words what you are seeing."
     ]
    },
    {
     "cell_type": "code",
     "collapsed": false,
     "input": [
      "scores = []\n",
      "for n in n_neighbors:\n",
      "    myknn = KNeighborsClassifier(n).fit(X_train,y_train)\n",
      "    scores.append((myknn.score(X_test, y_test)))\n",
      "import matplotlib.pyplot as plt\n",
      "plt.plot(n_neighbors, scores, linewidth=3.0)"
     ],
     "language": "python",
     "metadata": {},
     "outputs": [
      {
       "metadata": {},
       "output_type": "pyout",
       "prompt_number": 7,
       "text": [
        "[<matplotlib.lines.Line2D at 0x10840cc90>]"
       ]
      },
      {
       "metadata": {},
       "output_type": "display_data",
       "png": "[encoded data removed]",
       "text": [
        "<matplotlib.figure.Figure at 0x1082fcc10>"
       ]
      }
     ],
     "prompt_number": 7
    },
    {
     "cell_type": "code",
     "collapsed": false,
     "input": [
      "# optimal value of K is 11, accuracy is decreasing after k of 11. "
     ],
     "language": "python",
     "metadata": {},
     "outputs": [],
     "prompt_number": 273
    },
    {
     "cell_type": "heading",
     "level": 1,
     "metadata": {},
     "source": [
      "Now, write your own implementation of cross-validation in Python without\n",
      "using the cross-validation methods from sklearn. Cross validation is a very\n",
      "important concept. Implementing it yourself in Python is the best way to learn\n",
      "and understand it. Compare the results of your cross-validation code with your\n",
      "results using the cross-validation in sklearn."
     ]
    },
    {
     "cell_type": "code",
     "collapsed": false,
     "input": [
      "\n",
      "def mytestcross_val(lendata,iter=5,size=0.3):\n",
      "    cv = ShuffleSplit(n=lendata, n_iter=iter, test_size=0.3,\n",
      "        random_state=0)\n",
      "    templist=list()\n",
      "    for indexx, (train, test) in enumerate(cv):\n",
      "        myknn = KNeighborsClassifier(3).fit(X[train], y[train])\n",
      "        #print indexx\n",
      "        score=myknn.score(X[test], y[test])\n",
      "        templist.append(score)\n",
      "    print 'cross val score is ' + str(templist)\n",
      "    print 'cross val mean is ' + str(sum(templist)/float(len(templist)))"
     ],
     "language": "python",
     "metadata": {},
     "outputs": [],
     "prompt_number": 8
    },
    {
     "cell_type": "code",
     "collapsed": false,
     "input": [
      "mytestcross_val(150,5,0.3)"
     ],
     "language": "python",
     "metadata": {},
     "outputs": [
      {
       "output_type": "stream",
       "stream": "stdout",
       "text": [
        "cross val score is [0.97777777777777775, 0.93333333333333335, 0.97777777777777775, 0.91111111111111109, 0.97777777777777775]\n",
        "cross val mean is 0.955555555556\n"
       ]
      }
     ],
     "prompt_number": 9
    },
    {
     "cell_type": "code",
     "collapsed": false,
     "input": [],
     "language": "python",
     "metadata": {},
     "outputs": [],
     "prompt_number": 275
    },
    {
     "cell_type": "code",
     "collapsed": false,
     "input": [],
     "language": "python",
     "metadata": {},
     "outputs": [],
     "prompt_number": 275
    },
    {
     "cell_type": "code",
     "collapsed": false,
     "input": [
      "\n",
      "        "
     ],
     "language": "python",
     "metadata": {},
     "outputs": [],
     "prompt_number": 275
    },
    {
     "cell_type": "code",
     "collapsed": false,
     "input": [],
     "language": "python",
     "metadata": {},
     "outputs": [],
     "prompt_number": 275
    },
    {
     "cell_type": "code",
     "collapsed": false,
     "input": [],
     "language": "python",
     "metadata": {},
     "outputs": [],
     "prompt_number": 275
    },
    {
     "cell_type": "code",
     "collapsed": false,
     "input": [],
     "language": "python",
     "metadata": {},
     "outputs": [],
     "prompt_number": 275
    },
    {
     "cell_type": "code",
     "collapsed": false,
     "input": [],
     "language": "python",
     "metadata": {},
     "outputs": [],
     "prompt_number": 275
    },
    {
     "cell_type": "code",
     "collapsed": false,
     "input": [],
     "language": "python",
     "metadata": {},
     "outputs": [],
     "prompt_number": 275
    },
    {
     "cell_type": "code",
     "collapsed": false,
     "input": [],
     "language": "python",
     "metadata": {},
     "outputs": []
    }
   ],
   "metadata": {}
  }
 ]
}